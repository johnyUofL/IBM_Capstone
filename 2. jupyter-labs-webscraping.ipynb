{
 "cells": [
  {
   "cell_type": "markdown",
   "id": "8cc36e85-e742-4c84-837a-98a0597a96fe",
   "metadata": {},
   "source": [
    "<p style=\"text-align:center\">\n",
    "    <a href=\"https://skills.network\" target=\"_blank\">\n",
    "    <img src=\"https://cf-courses-data.s3.us.cloud-object-storage.appdomain.cloud/assets/logos/SN_web_lightmode.png\" width=\"200\" alt=\"Skills Network Logo\">\n",
    "    </a>\n",
    "</p>\n"
   ]
  },
  {
   "cell_type": "markdown",
   "id": "c1802427-1e09-479e-8812-2a7a6ab977cb",
   "metadata": {},
   "source": [
    "# **Space X  Falcon 9 First Stage Landing Prediction**\n"
   ]
  },
  {
   "cell_type": "markdown",
   "id": "9a3e2ec6-7d51-4cc7-9581-4e7c6901366f",
   "metadata": {},
   "source": [
    "## Web scraping Falcon 9 and Falcon Heavy Launches Records from Wikipedia\n"
   ]
  },
  {
   "cell_type": "markdown",
   "id": "493069c4-2d91-4f44-9cbc-39b992d117fa",
   "metadata": {},
   "source": [
    "Estimated time needed: **40** minutes\n"
   ]
  },
  {
   "cell_type": "markdown",
   "id": "6f6fb636-4197-4165-abe1-3977cb145b7e",
   "metadata": {},
   "source": [
    "In this lab, you will be performing web scraping to collect Falcon 9 historical launch records from a Wikipedia page titled `List of Falcon 9 and Falcon Heavy launches`\n",
    "\n",
    "https://en.wikipedia.org/wiki/List_of_Falcon_9_and_Falcon_Heavy_launches\n"
   ]
  },
  {
   "cell_type": "markdown",
   "id": "a44468cb-dc83-4bb6-a2c8-23f11430c25d",
   "metadata": {},
   "source": [
    "![](https://cf-courses-data.s3.us.cloud-object-storage.appdomain.cloud/IBM-DS0321EN-SkillsNetwork/labs/module_1_L2/images/Falcon9_rocket_family.svg)\n"
   ]
  },
  {
   "cell_type": "markdown",
   "id": "656e6880-2131-4e13-80ca-72b2569aabfa",
   "metadata": {},
   "source": [
    "Falcon 9 first stage will land successfully\n"
   ]
  },
  {
   "cell_type": "markdown",
   "id": "ed12b653-83f6-460a-a588-aafb3b588305",
   "metadata": {},
   "source": [
    "![](https://cf-courses-data.s3.us.cloud-object-storage.appdomain.cloud/IBMDeveloperSkillsNetwork-DS0701EN-SkillsNetwork/api/Images/landing_1.gif)\n"
   ]
  },
  {
   "cell_type": "markdown",
   "id": "e633b9ae-e2b8-4286-997c-eefd1e9c5a21",
   "metadata": {},
   "source": [
    "Several examples of an unsuccessful landing are shown here:\n"
   ]
  },
  {
   "cell_type": "markdown",
   "id": "2e44dc45-d2f4-4c3b-a3db-2160a716c5ca",
   "metadata": {},
   "source": [
    "![](https://cf-courses-data.s3.us.cloud-object-storage.appdomain.cloud/IBMDeveloperSkillsNetwork-DS0701EN-SkillsNetwork/api/Images/crash.gif)\n"
   ]
  },
  {
   "cell_type": "markdown",
   "id": "7f268b83-8634-43c2-8bc4-337397bbb892",
   "metadata": {},
   "source": [
    "More specifically, the launch records are stored in a HTML table shown below:\n"
   ]
  },
  {
   "cell_type": "markdown",
   "id": "810a3675-0570-4ce6-8dbd-639aa802fb43",
   "metadata": {},
   "source": [
    "![](https://cf-courses-data.s3.us.cloud-object-storage.appdomain.cloud/IBM-DS0321EN-SkillsNetwork/labs/module_1_L2/images/falcon9-launches-wiki.png)\n"
   ]
  },
  {
   "cell_type": "markdown",
   "id": "bfc727c3-7d98-4b3e-8937-b478f6689c2c",
   "metadata": {},
   "source": [
    "  ## Objectives\n",
    "Web scrap Falcon 9 launch records with `BeautifulSoup`: \n",
    "- Extract a Falcon 9 launch records HTML table from Wikipedia\n",
    "- Parse the table and convert it into a Pandas data frame\n"
   ]
  },
  {
   "cell_type": "markdown",
   "id": "949facc0-8067-4e1d-aa63-e7f0d3a1d818",
   "metadata": {},
   "source": [
    "First let's import required packages for this lab\n"
   ]
  },
  {
   "cell_type": "code",
   "execution_count": 1,
   "id": "14cb1575-916d-4bb7-96ad-e93eb46c6d3d",
   "metadata": {},
   "outputs": [
    {
     "name": "stdout",
     "output_type": "stream",
     "text": [
      "Requirement already satisfied: beautifulsoup4 in c:\\users\\johny\\anaconda3\\lib\\site-packages (4.12.3)\n",
      "Requirement already satisfied: soupsieve>1.2 in c:\\users\\johny\\anaconda3\\lib\\site-packages (from beautifulsoup4) (2.2.1)\n",
      "Requirement already satisfied: requests in c:\\users\\johny\\anaconda3\\lib\\site-packages (2.32.3)\n",
      "Requirement already satisfied: idna<4,>=2.5 in c:\\users\\johny\\anaconda3\\lib\\site-packages (from requests) (3.2)\n",
      "Requirement already satisfied: charset-normalizer<4,>=2 in c:\\users\\johny\\anaconda3\\lib\\site-packages (from requests) (2.0.4)\n",
      "Requirement already satisfied: certifi>=2017.4.17 in c:\\users\\johny\\anaconda3\\lib\\site-packages (from requests) (2021.10.8)\n",
      "Requirement already satisfied: urllib3<3,>=1.21.1 in c:\\users\\johny\\anaconda3\\lib\\site-packages (from requests) (1.26.7)\n"
     ]
    }
   ],
   "source": [
    "!pip3 install beautifulsoup4\n",
    "!pip3 install requests"
   ]
  },
  {
   "cell_type": "code",
   "execution_count": 3,
   "id": "8920c88b-3865-4bbf-8f3c-1a1da57d0356",
   "metadata": {},
   "outputs": [],
   "source": [
    "import sys\n",
    "\n",
    "import requests\n",
    "from bs4 import BeautifulSoup\n",
    "import re\n",
    "import unicodedata\n",
    "import pandas as pd"
   ]
  },
  {
   "cell_type": "markdown",
   "id": "13de2829-bcd5-485a-b0b7-cb67518f2ddf",
   "metadata": {},
   "source": [
    "and we will provide some helper functions for you to process web scraped HTML table\n"
   ]
  },
  {
   "cell_type": "code",
   "execution_count": 4,
   "id": "64e7ca68-2201-4543-9734-1e1753d1418d",
   "metadata": {},
   "outputs": [],
   "source": [
    "def date_time(table_cells):\n",
    "    \"\"\"\n",
    "    This function returns the data and time from the HTML  table cell\n",
    "    Input: the  element of a table data cell extracts extra row\n",
    "    \"\"\"\n",
    "    return [data_time.strip() for data_time in list(table_cells.strings)][0:2]\n",
    "\n",
    "def booster_version(table_cells):\n",
    "    \"\"\"\n",
    "    This function returns the booster version from the HTML  table cell \n",
    "    Input: the  element of a table data cell extracts extra row\n",
    "    \"\"\"\n",
    "    out=''.join([booster_version for i,booster_version in enumerate( table_cells.strings) if i%2==0][0:-1])\n",
    "    return out\n",
    "\n",
    "def landing_status(table_cells):\n",
    "    \"\"\"\n",
    "    This function returns the landing status from the HTML table cell \n",
    "    Input: the  element of a table data cell extracts extra row\n",
    "    \"\"\"\n",
    "    out=[i for i in table_cells.strings][0]\n",
    "    return out\n",
    "\n",
    "\n",
    "def get_mass(table_cells):\n",
    "    mass=unicodedata.normalize(\"NFKD\", table_cells.text).strip()\n",
    "    if mass:\n",
    "        mass.find(\"kg\")\n",
    "        new_mass=mass[0:mass.find(\"kg\")+2]\n",
    "    else:\n",
    "        new_mass=0\n",
    "    return new_mass\n",
    "\n",
    "\n",
    "def extract_column_from_header(row):\n",
    "    \"\"\"\n",
    "    This function returns the landing status from the HTML table cell \n",
    "    Input: the  element of a table data cell extracts extra row\n",
    "    \"\"\"\n",
    "    if (row.br):\n",
    "        row.br.extract()\n",
    "    if row.a:\n",
    "        row.a.extract()\n",
    "    if row.sup:\n",
    "        row.sup.extract()\n",
    "        \n",
    "    colunm_name = ' '.join(row.contents)\n",
    "    \n",
    "    # Filter the digit and empty names\n",
    "    if not(colunm_name.strip().isdigit()):\n",
    "        colunm_name = colunm_name.strip()\n",
    "        return colunm_name    \n"
   ]
  },
  {
   "cell_type": "markdown",
   "id": "e47870b7-752a-4576-8768-6ccfa8f2f4c3",
   "metadata": {},
   "source": [
    "To keep the lab tasks consistent, you will be asked to scrape the data from a snapshot of the  `List of Falcon 9 and Falcon Heavy launches` Wikipage updated on\n",
    "`9th June 2021`\n"
   ]
  },
  {
   "cell_type": "code",
   "execution_count": 5,
   "id": "cc525e75-fec2-401d-ab6e-8d2b2ef7c426",
   "metadata": {},
   "outputs": [],
   "source": [
    "static_url = \"https://en.wikipedia.org/w/index.php?title=List_of_Falcon_9_and_Falcon_Heavy_launches&oldid=1027686922\""
   ]
  },
  {
   "cell_type": "markdown",
   "id": "0b7a0ee1-f88f-4c64-91ca-6f45e6a684f4",
   "metadata": {},
   "source": [
    "Next, request the HTML page from the above URL and get a `response` object\n"
   ]
  },
  {
   "cell_type": "markdown",
   "id": "cdf1b091-196a-47b5-8dd6-b7ce9fdefce4",
   "metadata": {},
   "source": [
    "### TASK 1: Request the Falcon9 Launch Wiki page from its URL\n"
   ]
  },
  {
   "cell_type": "markdown",
   "id": "8cb63967-b688-42f9-8775-b18587169579",
   "metadata": {},
   "source": [
    "First, let's perform an HTTP GET method to request the Falcon9 Launch HTML page, as an HTTP response.\n"
   ]
  },
  {
   "cell_type": "code",
   "execution_count": 6,
   "id": "1571d30a-141d-457f-baa3-538fcea60f1a",
   "metadata": {},
   "outputs": [
    {
     "name": "stdout",
     "output_type": "stream",
     "text": [
      "Request successful!\n",
      "   Flight No.                                 Date andtime (UTC)  \\\n",
      "0           1                                  4 June 2010,18:45   \n",
      "1           1  First flight of Falcon 9 v1.0.[11] Used a boil...   \n",
      "2           2                          8 December 2010,15:43[13]   \n",
      "3           2  Maiden flight of Dragon capsule, consisting of...   \n",
      "4           3                              22 May 2012,07:44[17]   \n",
      "\n",
      "                                 Version,Booster [b]  \\\n",
      "0                               F9 v1.0[7]B0003.1[8]   \n",
      "1  First flight of Falcon 9 v1.0.[11] Used a boil...   \n",
      "2                               F9 v1.0[7]B0004.1[8]   \n",
      "3  Maiden flight of Dragon capsule, consisting of...   \n",
      "4                               F9 v1.0[7]B0005.1[8]   \n",
      "\n",
      "                                         Launch site  \\\n",
      "0                                       CCAFS,SLC-40   \n",
      "1  First flight of Falcon 9 v1.0.[11] Used a boil...   \n",
      "2                                       CCAFS,SLC-40   \n",
      "3  Maiden flight of Dragon capsule, consisting of...   \n",
      "4                                       CCAFS,SLC-40   \n",
      "\n",
      "                                          Payload[c]  \\\n",
      "0               Dragon Spacecraft Qualification Unit   \n",
      "1  First flight of Falcon 9 v1.0.[11] Used a boil...   \n",
      "2                 Dragon demo flight C1(Dragon C101)   \n",
      "3  Maiden flight of Dragon capsule, consisting of...   \n",
      "4            Dragon demo flight C2+[18](Dragon C102)   \n",
      "\n",
      "                                        Payload mass  \\\n",
      "0                                                NaN   \n",
      "1  First flight of Falcon 9 v1.0.[11] Used a boil...   \n",
      "2                                                NaN   \n",
      "3  Maiden flight of Dragon capsule, consisting of...   \n",
      "4                              525 kg (1,157 lb)[19]   \n",
      "\n",
      "                                               Orbit  \\\n",
      "0                                                LEO   \n",
      "1  First flight of Falcon 9 v1.0.[11] Used a boil...   \n",
      "2                                          LEO (ISS)   \n",
      "3  Maiden flight of Dragon capsule, consisting of...   \n",
      "4                                          LEO (ISS)   \n",
      "\n",
      "                                            Customer  \\\n",
      "0                                             SpaceX   \n",
      "1  First flight of Falcon 9 v1.0.[11] Used a boil...   \n",
      "2  .mw-parser-output .plainlist ol,.mw-parser-out...   \n",
      "3  Maiden flight of Dragon capsule, consisting of...   \n",
      "4                                        NASA (COTS)   \n",
      "\n",
      "                                       Launchoutcome  \\\n",
      "0                                            Success   \n",
      "1  First flight of Falcon 9 v1.0.[11] Used a boil...   \n",
      "2                                         Success[9]   \n",
      "3  Maiden flight of Dragon capsule, consisting of...   \n",
      "4                                        Success[20]   \n",
      "\n",
      "                                      Boosterlanding  \n",
      "0                          Failure[9][10](parachute)  \n",
      "1  First flight of Falcon 9 v1.0.[11] Used a boil...  \n",
      "2                          Failure[9][14](parachute)  \n",
      "3  Maiden flight of Dragon capsule, consisting of...  \n",
      "4                                         No attempt  \n"
     ]
    }
   ],
   "source": [
    "# use requests.get() method with the provided static_url\n",
    "# assign the response to a object\n",
    "\n",
    "import requests\n",
    "from bs4 import BeautifulSoup\n",
    "import pandas as pd\n",
    "import unicodedata\n",
    "\n",
    "# Define the URL of the Wikipedia page snapshot\n",
    "static_url = \"https://en.wikipedia.org/w/index.php?title=List_of_Falcon_9_and_Falcon_Heavy_launches&oldid=1027686922\"\n",
    "\n",
    "# Perform an HTTP GET request to fetch the HTML content of the page\n",
    "response = requests.get(static_url)\n",
    "\n",
    "# Check the status code to ensure the request was successful\n",
    "if response.status_code == 200:\n",
    "    print(\"Request successful!\")\n",
    "else:\n",
    "    print(f\"Failed to retrieve the page. Status code: {response.status_code}\")\n",
    "\n",
    "# Parse the HTML content using BeautifulSoup\n",
    "soup = BeautifulSoup(response.text, 'html.parser')\n",
    "\n",
    "# Find the table(s) containing the Falcon 9 launch records\n",
    "tables = soup.find_all('table', {'class': 'wikitable'})\n",
    "\n",
    "# Now you can parse the tables into a pandas DataFrame\n",
    "# For instance, extracting data from the first table\n",
    "table = tables[0]\n",
    "df = pd.read_html(str(table))[0]\n",
    "\n",
    "# Display the first few rows of the DataFrame\n",
    "print(df.head())\n"
   ]
  },
  {
   "cell_type": "markdown",
   "id": "092c88c9-deeb-4614-b747-2e64a7147825",
   "metadata": {},
   "source": [
    "Create a `BeautifulSoup` object from the HTML `response`\n"
   ]
  },
  {
   "cell_type": "code",
   "execution_count": 7,
   "id": "e24216e7-a817-4392-959a-9d8a3a0777d5",
   "metadata": {},
   "outputs": [
    {
     "name": "stdout",
     "output_type": "stream",
     "text": [
      "<!DOCTYPE html>\n",
      "<html class=\"client-nojs vector-feature-language-in-header-enabled vector-feature-language-in-main-page-header-disabled vector-feature-sticky-header-disabled vector-feature-page-tools-pinned-disabled vector-feature-toc-pinned-clientpref-1 vector-feature-main-menu-pinned-disabled vector-feature-limited-width-clientpref-1 vector-feature-limited-width-content-enabled vector-feature-custom-font-size-clientpref-1 vector-feature-appearance-enabled vector-feature-appearance-pinned-clien\n"
     ]
    }
   ],
   "source": [
    "# Use BeautifulSoup() to create a BeautifulSoup object from a response text content\n",
    "\n",
    "from bs4 import BeautifulSoup\n",
    "\n",
    "# Assuming you have already made the request and have the response object\n",
    "# Create a BeautifulSoup object\n",
    "soup = BeautifulSoup(response.text, 'html.parser')\n",
    "\n",
    "# Optionally, you can print the soup object or a part of it to confirm the content\n",
    "print(soup.prettify()[:500])  # Display the first 500 characters of the parsed HTML\n"
   ]
  },
  {
   "cell_type": "markdown",
   "id": "9fff6330-aed7-4efd-90d1-a5e9dad25eff",
   "metadata": {},
   "source": [
    "Print the page title to verify if the `BeautifulSoup` object was created properly \n"
   ]
  },
  {
   "cell_type": "code",
   "execution_count": 8,
   "id": "083edb6a-387c-4fe7-9278-238b6bac7339",
   "metadata": {},
   "outputs": [
    {
     "name": "stdout",
     "output_type": "stream",
     "text": [
      "<title>List of Falcon 9 and Falcon Heavy launches - Wikipedia</title>\n",
      "List of Falcon 9 and Falcon Heavy launches - Wikipedia\n"
     ]
    }
   ],
   "source": [
    "# Print the page title to verify the BeautifulSoup object\n",
    "print(soup.title)\n",
    "\n",
    "# You can also print the title text without the surrounding <title> tags\n",
    "print(soup.title.string)\n"
   ]
  },
  {
   "cell_type": "markdown",
   "id": "cd249b6c-478e-4ca8-a5f3-4f41943dd681",
   "metadata": {},
   "source": [
    "### TASK 2: Extract all column/variable names from the HTML table header\n"
   ]
  },
  {
   "cell_type": "markdown",
   "id": "426a67ab-e679-4395-ad1b-4dd756fb7e8b",
   "metadata": {},
   "source": [
    "Next, we want to collect all relevant column names from the HTML table header\n"
   ]
  },
  {
   "cell_type": "markdown",
   "id": "2d0f485d-8ad5-4543-92c0-f0c859167af3",
   "metadata": {},
   "source": [
    "Let's try to find all tables on the wiki page first. If you need to refresh your memory about `BeautifulSoup`, please check the external reference link towards the end of this lab\n"
   ]
  },
  {
   "cell_type": "code",
   "execution_count": 9,
   "id": "11589950-76e7-4cd2-80b0-76001e18b0b0",
   "metadata": {},
   "outputs": [
    {
     "name": "stdout",
     "output_type": "stream",
     "text": [
      "Number of tables found: 25\n",
      "<table class=\"col-begin\" role=\"presentation\">\n",
      " <tbody>\n",
      "  <tr>\n",
      "   <td class=\"col-break\">\n",
      "    <div class=\"mw-heading mw-heading3\">\n",
      "     <h3 id=\"Rocket_configurations\">\n",
      "      Rocket configurations\n",
      "     </h3>\n",
      "    </div>\n",
      "    <div class=\"chart noresize\" style=\"padding-top:10px;margin-top:1em;max-width:420px;\">\n",
      "     <div style=\"position:relative;min-height:320px;min-width:420px;max-width:420px;\">\n",
      "      <div style=\"float:right;position:relative;min-height:240px;min-width:320px;max-width:320px;border-lef\n"
     ]
    }
   ],
   "source": [
    "# Use the find_all function in the BeautifulSoup object, with element type `table`\n",
    "# Assign the result to a list called `html_tables`\n",
    "\n",
    "# Find all tables on the wiki page\n",
    "html_tables = soup.find_all('table')\n",
    "\n",
    "# Print the number of tables found to verify\n",
    "print(f\"Number of tables found: {len(html_tables)}\")\n",
    "\n",
    "# Optionally, you can print the first table to inspect its structure\n",
    "print(html_tables[0].prettify()[:500])  # Print the first 500 characters of the first table\n",
    "\n"
   ]
  },
  {
   "cell_type": "markdown",
   "id": "d6e5c743-efd2-4d34-a5e0-a4868bdcd7d7",
   "metadata": {},
   "source": [
    "Starting from the third table is our target table contains the actual launch records.\n"
   ]
  },
  {
   "cell_type": "code",
   "execution_count": 18,
   "id": "986c4484-b591-484c-aecd-d9061450a25e",
   "metadata": {},
   "outputs": [
    {
     "name": "stdout",
     "output_type": "stream",
     "text": [
      "<table class=\"wikitable plainrowheaders collapsible\" style=\"width: 100%;\">\n",
      " <tbody>\n",
      "  <tr>\n",
      "   <th scope=\"col\">\n",
      "    Flight No.\n",
      "   </th>\n",
      "   <th scope=\"col\">\n",
      "    Date and\n",
      "    <br/>\n",
      "    time (\n",
      "    <a href=\"/wiki/Coordinated_Universal_Time\" title=\"Coordinated Universal Time\">\n",
      "     UTC\n",
      "    </a>\n",
      "    )\n",
      "   </th>\n",
      "   <th scope=\"col\">\n",
      "    <a href=\"/wiki/List_of_Falcon_9_first-stage_boosters\" title=\"List of Falcon 9 first-stage boosters\">\n",
      "     Version,\n",
      "     <br/>\n",
      "     Booster\n",
      "    </a>\n",
      "    <sup class=\"reference\" id=\"cite_ref-booster_11-0\">\n",
      "     <a href=\"#cite_note-booster-11\">\n",
      "      <span class=\"cite-bracket\">\n",
      "       [\n",
      "      </span>\n",
      "      b\n",
      "      <span class=\"cite-bracket\">\n",
      "       ]\n",
      "      </span>\n",
      "     </a>\n",
      "    </sup>\n",
      "   </th>\n",
      "   <th scope=\"col\">\n",
      "    Launch site\n",
      "   </th>\n",
      "   <th scope=\"col\">\n",
      "    Payload\n",
      "    <sup class=\"reference\" id=\"cite_ref-Dragon_12-0\">\n",
      "     <a href=\"#cite_note-Dragon-12\">\n",
      "      <span class=\"cite-bracket\">\n",
      "       [\n",
      "      </span>\n",
      "      c\n",
      "      <span class=\"cite-bracket\">\n",
      "       ]\n",
      "  \n"
     ]
    }
   ],
   "source": [
    "# Let's print the third table and check its content\n",
    "# Print the first 1000 characters of the third table to inspect\n",
    "first_launch_table = html_tables[2]  # Access the third table\n",
    "print(first_launch_table.prettify()[:1000])  # Print first 1000 characters of the table\n"
   ]
  },
  {
   "cell_type": "markdown",
   "id": "8388e368-e165-455f-bacc-530941e194a5",
   "metadata": {},
   "source": [
    "You should able to see the columns names embedded in the table header elements `<th>` as follows:\n"
   ]
  },
  {
   "cell_type": "markdown",
   "id": "d073eea9-8e25-42cb-ad49-18b08e18d5fd",
   "metadata": {},
   "source": [
    "```\n",
    "<tr>\n",
    "<th scope=\"col\">Flight No.\n",
    "</th>\n",
    "<th scope=\"col\">Date and<br/>time (<a href=\"/wiki/Coordinated_Universal_Time\" title=\"Coordinated Universal Time\">UTC</a>)\n",
    "</th>\n",
    "<th scope=\"col\"><a href=\"/wiki/List_of_Falcon_9_first-stage_boosters\" title=\"List of Falcon 9 first-stage boosters\">Version,<br/>Booster</a> <sup class=\"reference\" id=\"cite_ref-booster_11-0\"><a href=\"#cite_note-booster-11\">[b]</a></sup>\n",
    "</th>\n",
    "<th scope=\"col\">Launch site\n",
    "</th>\n",
    "<th scope=\"col\">Payload<sup class=\"reference\" id=\"cite_ref-Dragon_12-0\"><a href=\"#cite_note-Dragon-12\">[c]</a></sup>\n",
    "</th>\n",
    "<th scope=\"col\">Payload mass\n",
    "</th>\n",
    "<th scope=\"col\">Orbit\n",
    "</th>\n",
    "<th scope=\"col\">Customer\n",
    "</th>\n",
    "<th scope=\"col\">Launch<br/>outcome\n",
    "</th>\n",
    "<th scope=\"col\"><a href=\"/wiki/Falcon_9_first-stage_landing_tests\" title=\"Falcon 9 first-stage landing tests\">Booster<br/>landing</a>\n",
    "</th></tr>\n",
    "```\n"
   ]
  },
  {
   "cell_type": "markdown",
   "id": "bf298b89-5d71-453b-b303-08b6f1f685fd",
   "metadata": {},
   "source": [
    "Next, we just need to iterate through the `<th>` elements and apply the provided `extract_column_from_header()` to extract column name one by one\n"
   ]
  },
  {
   "cell_type": "code",
   "execution_count": 22,
   "id": "22ebb407-3d02-4768-8fc8-10791bc45f14",
   "metadata": {},
   "outputs": [],
   "source": [
    "# Function to extract column names from header rows\n",
    "def extract_column_from_header(row):\n",
    "    \"\"\"\n",
    "    Extract and clean the column name from a <th> element in the table header.\n",
    "    \"\"\"\n",
    "    # Remove <br>, <a>, and <sup> tags to avoid irrelevant content\n",
    "    for tag in ['br', 'a', 'sup']:\n",
    "        for element in row.find_all(tag):\n",
    "            element.extract()\n",
    "    \n",
    "    # Get the stripped strings (clean text)\n",
    "    column_name = ' '.join(row.stripped_strings)\n",
    "    \n",
    "    # Ensure the column name is not just digits or empty\n",
    "    if column_name and not column_name.strip().isdigit():\n",
    "        return column_name.strip()\n",
    "    return None\n",
    "\n",
    "# Extract column names from the correct table\n",
    "column_names = []\n",
    "\n",
    "# Find all <th> elements in the header row of the table\n",
    "table_headers = first_launch_table.find_all('th')\n",
    "\n",
    "# Iterate and extract column names\n",
    "for th in table_headers:\n",
    "    name = extract_column_from_header(th)\n",
    "    if name:  # Append non-empty names\n",
    "        column_names.append(name)\n",
    "\n",
    "# Function to extract column names from header rows\n",
    "def extract_column_from_header(row):\n",
    "    \"\"\"\n",
    "    Extract and clean the column name from a <th> element in the table header.\n",
    "    \"\"\"\n",
    "    # Remove <br>, <a>, and <sup> tags to avoid irrelevant content\n",
    "    for tag in ['br', 'a', 'sup']:\n",
    "        for element in row.find_all(tag):\n",
    "            element.extract()\n",
    "    \n",
    "    # Get the stripped strings (clean text)\n",
    "    column_name = ' '.join(row.stripped_strings)\n",
    "    \n",
    "    # Ensure the column name is not just digits or empty\n",
    "    if column_name and not column_name.strip().isdigit():\n",
    "        return column_name.strip()\n",
    "    return None\n",
    "\n",
    "# Extract column names from the correct table\n",
    "column_names = []\n",
    "\n",
    "# Find all <th> elements in the header row of the table\n",
    "table_headers = first_launch_table.find_all('th')\n",
    "\n",
    "# Iterate and extract column names\n",
    "for th in table_headers:\n",
    "    name = extract_column_from_header(th)\n",
    "    if name:  # Append non-empty names\n",
    "        column_names.append(name)\n",
    "\n"
   ]
  },
  {
   "cell_type": "markdown",
   "id": "f5b84e32-d802-4169-a06f-c355d1768cfe",
   "metadata": {},
   "source": [
    "Check the extracted column names\n"
   ]
  },
  {
   "cell_type": "code",
   "execution_count": 23,
   "id": "4c44f702-d92a-4be8-8ecd-ed4f8a2f12cb",
   "metadata": {},
   "outputs": [
    {
     "name": "stdout",
     "output_type": "stream",
     "text": [
      "['Flight No.', 'Date and time ( )', 'Launch site', 'Payload', 'Payload mass', 'Orbit', 'Customer', 'Launch outcome']\n"
     ]
    }
   ],
   "source": [
    "# Print the final extracted column names\n",
    "print(column_names)\n"
   ]
  },
  {
   "cell_type": "markdown",
   "id": "db8ec83a-baed-4815-b798-5ab6ee7239bd",
   "metadata": {},
   "source": [
    "## TASK 3: Create a data frame by parsing the launch HTML tables\n"
   ]
  },
  {
   "cell_type": "markdown",
   "id": "029cb61d-767d-4e51-8d0d-7bc295d0db11",
   "metadata": {},
   "source": [
    "We will create an empty dictionary with keys from the extracted column names in the previous task. Later, this dictionary will be converted into a Pandas dataframe\n"
   ]
  },
  {
   "cell_type": "code",
   "execution_count": 24,
   "id": "7e996185-1120-4d35-a25e-c79d86ab9cbe",
   "metadata": {},
   "outputs": [],
   "source": [
    "launch_dict= dict.fromkeys(column_names)\n",
    "\n",
    "# Remove an irrelvant column\n",
    "del launch_dict['Date and time ( )']\n",
    "\n",
    "# Let's initial the launch_dict with each value to be an empty list\n",
    "launch_dict['Flight No.'] = []\n",
    "launch_dict['Launch site'] = []\n",
    "launch_dict['Payload'] = []\n",
    "launch_dict['Payload mass'] = []\n",
    "launch_dict['Orbit'] = []\n",
    "launch_dict['Customer'] = []\n",
    "launch_dict['Launch outcome'] = []\n",
    "# Added some new columns\n",
    "launch_dict['Version Booster']=[]\n",
    "launch_dict['Booster landing']=[]\n",
    "launch_dict['Date']=[]\n",
    "launch_dict['Time']=[]"
   ]
  },
  {
   "cell_type": "markdown",
   "id": "0258b3a8-8a82-457c-922d-6aff5e382f90",
   "metadata": {},
   "source": [
    "Next, we just need to fill up the `launch_dict` with launch records extracted from table rows.\n"
   ]
  },
  {
   "cell_type": "markdown",
   "id": "6a86521c-24a7-4f03-806b-3f175f82c590",
   "metadata": {},
   "source": [
    "Usually, HTML tables in Wiki pages are likely to contain unexpected annotations and other types of noises, such as reference links `B0004.1[8]`, missing values `N/A [e]`, inconsistent formatting, etc.\n"
   ]
  },
  {
   "cell_type": "markdown",
   "id": "2a6aac8d-277a-46c6-9723-c0941be84ff0",
   "metadata": {},
   "source": [
    "To simplify the parsing process, we have provided an incomplete code snippet below to help you to fill up the `launch_dict`. Please complete the following code snippet with TODOs or you can choose to write your own logic to parse all launch tables:\n"
   ]
  },
  {
   "cell_type": "code",
   "execution_count": 30,
   "id": "be1f1b04-a253-4349-bf50-137566141da1",
   "metadata": {},
   "outputs": [
    {
     "name": "stdout",
     "output_type": "stream",
     "text": [
      "  Flight No. Launch site                               Payload Payload mass  \\\n",
      "0          1       CCAFS  Dragon Spacecraft Qualification Unit            0   \n",
      "1          2       CCAFS                                Dragon            0   \n",
      "2          3       CCAFS                                Dragon       525 kg   \n",
      "3          4       CCAFS                          SpaceX CRS-1     4,700 kg   \n",
      "4          5       CCAFS                          SpaceX CRS-2     4,877 kg   \n",
      "\n",
      "  Orbit Customer Launch outcome   Version Booster Booster landing  \\\n",
      "0   LEO   SpaceX      Success\\n  F9 v1.07B0003.18         Failure   \n",
      "1   LEO     NASA        Success  F9 v1.07B0004.18         Failure   \n",
      "2   LEO     NASA        Success  F9 v1.07B0005.18    No attempt\\n   \n",
      "3   LEO     NASA      Success\\n  F9 v1.07B0006.18      No attempt   \n",
      "4   LEO     NASA      Success\\n  F9 v1.07B0007.18    No attempt\\n   \n",
      "\n",
      "              Date   Time  \n",
      "0      4 June 2010  18:45  \n",
      "1  8 December 2010  15:43  \n",
      "2      22 May 2012  07:44  \n",
      "3   8 October 2012  00:35  \n",
      "4     1 March 2013  15:10  \n"
     ]
    }
   ],
   "source": [
    "extracted_row = 0\n",
    "\n",
    "# Extract each table \n",
    "for table_number, table in enumerate(soup.find_all('table', \"wikitable plainrowheaders collapsible\")):\n",
    "    # Get table rows\n",
    "    for rows in table.find_all(\"tr\"):\n",
    "        # Check to see if the first table heading is a number corresponding to a flight number\n",
    "        if rows.th:\n",
    "            if rows.th.string:\n",
    "                flight_number = rows.th.string.strip()\n",
    "                flag = flight_number.isdigit()\n",
    "        else:\n",
    "            flag = False\n",
    "        \n",
    "        # Get table elements (cells) in the row\n",
    "        row = rows.find_all('td')\n",
    "        \n",
    "        # If it's a valid flight number, save the cells in the dictionary\n",
    "        if flag:\n",
    "            extracted_row += 1\n",
    "            \n",
    "            # Flight Number\n",
    "            launch_dict['Flight No.'].append(flight_number)\n",
    "            \n",
    "            # Date and Time\n",
    "            datatimelist = date_time(row[0])\n",
    "            date = datatimelist[0].strip(',')  # Date value\n",
    "            time = datatimelist[1]  # Time value\n",
    "            launch_dict['Date'].append(date)\n",
    "            launch_dict['Time'].append(time)\n",
    "            \n",
    "            # Booster Version\n",
    "            bv = booster_version(row[1])\n",
    "            if not bv:  # Check if no booster version is present\n",
    "                bv = row[1].a.string if row[1].a else ''\n",
    "            launch_dict['Version Booster'].append(bv)\n",
    "            \n",
    "            # Launch Site\n",
    "            launch_site = row[2].a.string if row[2].a else ''\n",
    "            launch_dict['Launch site'].append(launch_site)\n",
    "            \n",
    "            # Payload\n",
    "            payload = row[3].a.string if row[3].a else ''\n",
    "            launch_dict['Payload'].append(payload)\n",
    "            \n",
    "            # Payload Mass\n",
    "            payload_mass = get_mass(row[4])\n",
    "            launch_dict['Payload mass'].append(payload_mass)\n",
    "            \n",
    "            # Orbit\n",
    "            orbit = row[5].a.string if row[5].a else ''\n",
    "            launch_dict['Orbit'].append(orbit)\n",
    "            \n",
    "            # Customer\n",
    "            customer = row[6].a.string if row[6].a else ''\n",
    "            launch_dict['Customer'].append(customer)\n",
    "            \n",
    "            # Launch Outcome\n",
    "            launch_outcome = list(row[7].strings)[0] if row[7].strings else ''\n",
    "            launch_dict['Launch outcome'].append(launch_outcome)\n",
    "            \n",
    "            # Booster Landing\n",
    "            booster_landing = landing_status(row[8])\n",
    "            launch_dict['Booster landing'].append(booster_landing)\n",
    "            \n",
    "            import pandas as pd\n",
    "\n",
    "# Convert the launch_dict to a Pandas DataFrame\n",
    "df = pd.DataFrame(launch_dict)\n",
    "\n",
    "# Display the first few rows of the DataFrame to verify the result\n",
    "print(df.head())\n",
    "\n",
    "\n",
    "            "
   ]
  },
  {
   "cell_type": "markdown",
   "id": "497f7cb5-ef34-4b9b-bf64-dfa1f9a0e7f7",
   "metadata": {},
   "source": [
    "After you have fill in the parsed launch record values into `launch_dict`, you can create a dataframe from it.\n"
   ]
  },
  {
   "cell_type": "code",
   "execution_count": 29,
   "id": "2f0ecc72-b48f-45c6-b556-95b82806d638",
   "metadata": {},
   "outputs": [],
   "source": [
    "df= pd.DataFrame({ key:pd.Series(value) for key, value in launch_dict.items() })"
   ]
  },
  {
   "cell_type": "markdown",
   "id": "ae2a7078-1692-44a7-bc39-6b2c014f2fe7",
   "metadata": {},
   "source": [
    "We can now export it to a <b>CSV</b> for the next section, but to make the answers consistent and in case you have difficulties finishing this lab. \n",
    "\n",
    "Following labs will be using a provided dataset to make each lab independent. \n"
   ]
  },
  {
   "cell_type": "markdown",
   "id": "51033bb6-8bb7-4b96-b4f8-a7791f09d1d5",
   "metadata": {},
   "source": [
    "<code>df.to_csv('spacex_web_scraped.csv', index=False)</code>\n"
   ]
  },
  {
   "cell_type": "markdown",
   "id": "034c33c0-3994-4b85-8b6d-5e91250763f7",
   "metadata": {},
   "source": [
    "## Authors\n"
   ]
  },
  {
   "cell_type": "markdown",
   "id": "ecd10e97-65e4-4e0e-b23b-996e560ee644",
   "metadata": {},
   "source": [
    "<a href=\"https://www.linkedin.com/in/yan-luo-96288783/\">Yan Luo</a>\n"
   ]
  },
  {
   "cell_type": "markdown",
   "id": "dd7bf60e-612d-473d-9acb-466c293752ad",
   "metadata": {},
   "source": [
    "<a href=\"https://www.linkedin.com/in/nayefaboutayoun/\">Nayef Abou Tayoun</a>\n"
   ]
  },
  {
   "cell_type": "markdown",
   "id": "90f475ce-4568-4f93-8674-f4f67c21ec07",
   "metadata": {},
   "source": [
    "<!--\n",
    "## Change Log\n",
    "-->\n"
   ]
  },
  {
   "cell_type": "markdown",
   "id": "12c0234b-45a3-43ba-a9e8-352b66da7cf7",
   "metadata": {},
   "source": [
    "<!--\n",
    "| Date (YYYY-MM-DD) | Version | Changed By | Change Description      |\n",
    "| ----------------- | ------- | ---------- | ----------------------- |\n",
    "| 2021-06-09        | 1.0     | Yan Luo    | Tasks updates           |\n",
    "| 2020-11-10        | 1.0     | Nayef      | Created the initial version |\n",
    "-->\n"
   ]
  },
  {
   "cell_type": "markdown",
   "id": "f322ba7b-d72d-4e9d-b019-f0c7f95e57e9",
   "metadata": {},
   "source": [
    "Copyright © 2021 IBM Corporation. All rights reserved.\n"
   ]
  }
 ],
 "metadata": {
  "kernelspec": {
   "display_name": "Python 3 (ipykernel)",
   "language": "python",
   "name": "python3"
  },
  "language_info": {
   "codemirror_mode": {
    "name": "ipython",
    "version": 3
   },
   "file_extension": ".py",
   "mimetype": "text/x-python",
   "name": "python",
   "nbconvert_exporter": "python",
   "pygments_lexer": "ipython3",
   "version": "3.9.7"
  },
  "prev_pub_hash": "64f1b0aac408997185c47caba18730e0028b75e7934a0e5bf0ae73c5cb7ba677"
 },
 "nbformat": 4,
 "nbformat_minor": 4
}
